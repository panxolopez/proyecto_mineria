{
 "cells": [
  {
   "cell_type": "markdown",
   "id": "74c950d3",
   "metadata": {},
   "source": [
    "# Tiroteos desde el 2017 al 2021"
   ]
  },
  {
   "cell_type": "markdown",
   "id": "acb72008",
   "metadata": {},
   "source": [
    "#### Cargamos la data y revisamos la cantidad de victimas en los tiroteos"
   ]
  },
  {
   "cell_type": "code",
   "execution_count": 1,
   "id": "3e7224e8",
   "metadata": {},
   "outputs": [
    {
     "data": {
      "text/html": [
       "<div>\n",
       "<style scoped>\n",
       "    .dataframe tbody tr th:only-of-type {\n",
       "        vertical-align: middle;\n",
       "    }\n",
       "\n",
       "    .dataframe tbody tr th {\n",
       "        vertical-align: top;\n",
       "    }\n",
       "\n",
       "    .dataframe thead th {\n",
       "        text-align: right;\n",
       "    }\n",
       "</style>\n",
       "<table border=\"1\" class=\"dataframe\">\n",
       "  <thead>\n",
       "    <tr style=\"text-align: right;\">\n",
       "      <th></th>\n",
       "      <th>Incident ID</th>\n",
       "      <th>Incident Date</th>\n",
       "      <th>State</th>\n",
       "      <th>City Or County</th>\n",
       "      <th>Address</th>\n",
       "      <th># Killed</th>\n",
       "      <th># Injured</th>\n",
       "      <th>Operations</th>\n",
       "    </tr>\n",
       "  </thead>\n",
       "  <tbody>\n",
       "    <tr>\n",
       "      <th>0</th>\n",
       "      <td>1978561</td>\n",
       "      <td>April 15, 2021</td>\n",
       "      <td>District of Columbia</td>\n",
       "      <td>Washington</td>\n",
       "      <td>1800 block of West Virginia Ave NE</td>\n",
       "      <td>0</td>\n",
       "      <td>4</td>\n",
       "      <td>NaN</td>\n",
       "    </tr>\n",
       "    <tr>\n",
       "      <th>1</th>\n",
       "      <td>1978635</td>\n",
       "      <td>April 15, 2021</td>\n",
       "      <td>Indiana</td>\n",
       "      <td>Indianapolis</td>\n",
       "      <td>8951 Mirabel Rd</td>\n",
       "      <td>8</td>\n",
       "      <td>5</td>\n",
       "      <td>NaN</td>\n",
       "    </tr>\n",
       "    <tr>\n",
       "      <th>2</th>\n",
       "      <td>1978652</td>\n",
       "      <td>April 15, 2021</td>\n",
       "      <td>Illinois</td>\n",
       "      <td>Chicago</td>\n",
       "      <td>600 block of N Sawyer Ave</td>\n",
       "      <td>0</td>\n",
       "      <td>4</td>\n",
       "      <td>NaN</td>\n",
       "    </tr>\n",
       "    <tr>\n",
       "      <th>3</th>\n",
       "      <td>1978616</td>\n",
       "      <td>April 15, 2021</td>\n",
       "      <td>Florida</td>\n",
       "      <td>Pensacola</td>\n",
       "      <td>700 Truman Ave</td>\n",
       "      <td>0</td>\n",
       "      <td>6</td>\n",
       "      <td>NaN</td>\n",
       "    </tr>\n",
       "    <tr>\n",
       "      <th>4</th>\n",
       "      <td>1976538</td>\n",
       "      <td>April 13, 2021</td>\n",
       "      <td>Maryland</td>\n",
       "      <td>Baltimore</td>\n",
       "      <td>2300 block of Hoffman St</td>\n",
       "      <td>0</td>\n",
       "      <td>4</td>\n",
       "      <td>NaN</td>\n",
       "    </tr>\n",
       "    <tr>\n",
       "      <th>...</th>\n",
       "      <td>...</td>\n",
       "      <td>...</td>\n",
       "      <td>...</td>\n",
       "      <td>...</td>\n",
       "      <td>...</td>\n",
       "      <td>...</td>\n",
       "      <td>...</td>\n",
       "      <td>...</td>\n",
       "    </tr>\n",
       "    <tr>\n",
       "      <th>1995</th>\n",
       "      <td>634238</td>\n",
       "      <td>August 20, 2016</td>\n",
       "      <td>Connecticut</td>\n",
       "      <td>Hamden</td>\n",
       "      <td>903 Dixwell Ave</td>\n",
       "      <td>0</td>\n",
       "      <td>4</td>\n",
       "      <td>NaN</td>\n",
       "    </tr>\n",
       "    <tr>\n",
       "      <th>1996</th>\n",
       "      <td>634731</td>\n",
       "      <td>August 20, 2016</td>\n",
       "      <td>Washington</td>\n",
       "      <td>Tacoma</td>\n",
       "      <td>900 block of Pacific Avenue</td>\n",
       "      <td>0</td>\n",
       "      <td>5</td>\n",
       "      <td>NaN</td>\n",
       "    </tr>\n",
       "    <tr>\n",
       "      <th>1997</th>\n",
       "      <td>634819</td>\n",
       "      <td>August 20, 2016</td>\n",
       "      <td>Alabama</td>\n",
       "      <td>Citronelle</td>\n",
       "      <td>Jim Platt Road</td>\n",
       "      <td>5</td>\n",
       "      <td>0</td>\n",
       "      <td>NaN</td>\n",
       "    </tr>\n",
       "    <tr>\n",
       "      <th>1998</th>\n",
       "      <td>632747</td>\n",
       "      <td>August 18, 2016</td>\n",
       "      <td>Connecticut</td>\n",
       "      <td>Waterbury</td>\n",
       "      <td>402 E Main Street</td>\n",
       "      <td>0</td>\n",
       "      <td>4</td>\n",
       "      <td>NaN</td>\n",
       "    </tr>\n",
       "    <tr>\n",
       "      <th>1999</th>\n",
       "      <td>632753</td>\n",
       "      <td>August 17, 2016</td>\n",
       "      <td>California</td>\n",
       "      <td>Oakland</td>\n",
       "      <td>Mandela Parkway</td>\n",
       "      <td>0</td>\n",
       "      <td>4</td>\n",
       "      <td>NaN</td>\n",
       "    </tr>\n",
       "  </tbody>\n",
       "</table>\n",
       "<p>2000 rows × 8 columns</p>\n",
       "</div>"
      ],
      "text/plain": [
       "      Incident ID    Incident Date                 State City Or County  \\\n",
       "0         1978561   April 15, 2021  District of Columbia     Washington   \n",
       "1         1978635   April 15, 2021               Indiana   Indianapolis   \n",
       "2         1978652   April 15, 2021              Illinois        Chicago   \n",
       "3         1978616   April 15, 2021               Florida      Pensacola   \n",
       "4         1976538   April 13, 2021              Maryland      Baltimore   \n",
       "...           ...              ...                   ...            ...   \n",
       "1995       634238  August 20, 2016           Connecticut         Hamden   \n",
       "1996       634731  August 20, 2016            Washington         Tacoma   \n",
       "1997       634819  August 20, 2016               Alabama     Citronelle   \n",
       "1998       632747  August 18, 2016           Connecticut      Waterbury   \n",
       "1999       632753  August 17, 2016            California        Oakland   \n",
       "\n",
       "                                 Address  # Killed  # Injured  Operations  \n",
       "0     1800 block of West Virginia Ave NE         0          4         NaN  \n",
       "1                        8951 Mirabel Rd         8          5         NaN  \n",
       "2              600 block of N Sawyer Ave         0          4         NaN  \n",
       "3                         700 Truman Ave         0          6         NaN  \n",
       "4               2300 block of Hoffman St         0          4         NaN  \n",
       "...                                  ...       ...        ...         ...  \n",
       "1995                     903 Dixwell Ave         0          4         NaN  \n",
       "1996         900 block of Pacific Avenue         0          5         NaN  \n",
       "1997                      Jim Platt Road         5          0         NaN  \n",
       "1998                   402 E Main Street         0          4         NaN  \n",
       "1999                     Mandela Parkway         0          4         NaN  \n",
       "\n",
       "[2000 rows x 8 columns]"
      ]
     },
     "execution_count": 1,
     "metadata": {},
     "output_type": "execute_result"
    }
   ],
   "source": [
    "import pandas as pd\n",
    "df_shooting1=pd.read_csv('Mass_shooting_data.csv')\n",
    "df_shooting1"
   ]
  },
  {
   "cell_type": "code",
   "execution_count": 2,
   "id": "0567f79a",
   "metadata": {},
   "outputs": [
    {
     "data": {
      "text/plain": [
       "Incident ID         int64\n",
       "Incident Date      object\n",
       "State              object\n",
       "City Or County     object\n",
       "Address            object\n",
       "# Killed            int64\n",
       "# Injured           int64\n",
       "Operations        float64\n",
       "dtype: object"
      ]
     },
     "execution_count": 2,
     "metadata": {},
     "output_type": "execute_result"
    }
   ],
   "source": [
    "#df_shooting1.columns.values\n",
    "df_shooting1.describe()\n",
    "df_shooting1.dtypes\n"
   ]
  },
  {
   "cell_type": "code",
   "execution_count": 5,
   "id": "ea4b9917",
   "metadata": {},
   "outputs": [
    {
     "data": {
      "text/html": [
       "<div>\n",
       "<style scoped>\n",
       "    .dataframe tbody tr th:only-of-type {\n",
       "        vertical-align: middle;\n",
       "    }\n",
       "\n",
       "    .dataframe tbody tr th {\n",
       "        vertical-align: top;\n",
       "    }\n",
       "\n",
       "    .dataframe thead th {\n",
       "        text-align: right;\n",
       "    }\n",
       "</style>\n",
       "<table border=\"1\" class=\"dataframe\">\n",
       "  <thead>\n",
       "    <tr style=\"text-align: right;\">\n",
       "      <th></th>\n",
       "      <th>Incident ID</th>\n",
       "      <th>Incident Date</th>\n",
       "      <th>State</th>\n",
       "      <th>City Or County</th>\n",
       "      <th>Address</th>\n",
       "      <th># Killed</th>\n",
       "      <th># Injured</th>\n",
       "      <th>Operations</th>\n",
       "    </tr>\n",
       "  </thead>\n",
       "  <tbody>\n",
       "    <tr>\n",
       "      <th>1145</th>\n",
       "      <td>1320286</td>\n",
       "      <td>2019-02-03</td>\n",
       "      <td>California</td>\n",
       "      <td>Palm Springs</td>\n",
       "      <td>E Sunny Dunes Rd and El Placer Rd</td>\n",
       "      <td>4</td>\n",
       "      <td>0</td>\n",
       "      <td>NaN</td>\n",
       "    </tr>\n",
       "    <tr>\n",
       "      <th>1223</th>\n",
       "      <td>1233663</td>\n",
       "      <td>2018-10-15</td>\n",
       "      <td>Tennessee</td>\n",
       "      <td>Columbia</td>\n",
       "      <td>1075 Carters Creek Pike</td>\n",
       "      <td>5</td>\n",
       "      <td>0</td>\n",
       "      <td>NaN</td>\n",
       "    </tr>\n",
       "    <tr>\n",
       "      <th>849</th>\n",
       "      <td>1521226</td>\n",
       "      <td>2019-10-07</td>\n",
       "      <td>Massachusetts</td>\n",
       "      <td>Abington</td>\n",
       "      <td>135 Centre Ave</td>\n",
       "      <td>5</td>\n",
       "      <td>0</td>\n",
       "      <td>NaN</td>\n",
       "    </tr>\n",
       "    <tr>\n",
       "      <th>868</th>\n",
       "      <td>1512486</td>\n",
       "      <td>2019-09-21</td>\n",
       "      <td>Ohio</td>\n",
       "      <td>Cleveland</td>\n",
       "      <td>3616 East 144th St</td>\n",
       "      <td>4</td>\n",
       "      <td>0</td>\n",
       "      <td>NaN</td>\n",
       "    </tr>\n",
       "    <tr>\n",
       "      <th>166</th>\n",
       "      <td>1908063</td>\n",
       "      <td>2020-12-08</td>\n",
       "      <td>West Virginia</td>\n",
       "      <td>Williamsburg</td>\n",
       "      <td>611 Flynns Creek Rd</td>\n",
       "      <td>6</td>\n",
       "      <td>0</td>\n",
       "      <td>NaN</td>\n",
       "    </tr>\n",
       "    <tr>\n",
       "      <th>...</th>\n",
       "      <td>...</td>\n",
       "      <td>...</td>\n",
       "      <td>...</td>\n",
       "      <td>...</td>\n",
       "      <td>...</td>\n",
       "      <td>...</td>\n",
       "      <td>...</td>\n",
       "      <td>...</td>\n",
       "    </tr>\n",
       "    <tr>\n",
       "      <th>397</th>\n",
       "      <td>1758966</td>\n",
       "      <td>2020-08-09</td>\n",
       "      <td>District of Columbia</td>\n",
       "      <td>Washington</td>\n",
       "      <td>3300 block of Dubois Pl SE</td>\n",
       "      <td>1</td>\n",
       "      <td>21</td>\n",
       "      <td>NaN</td>\n",
       "    </tr>\n",
       "    <tr>\n",
       "      <th>930</th>\n",
       "      <td>1466705</td>\n",
       "      <td>2019-08-03</td>\n",
       "      <td>Texas</td>\n",
       "      <td>El Paso</td>\n",
       "      <td>7101 Gateway Blvd</td>\n",
       "      <td>23</td>\n",
       "      <td>23</td>\n",
       "      <td>NaN</td>\n",
       "    </tr>\n",
       "    <tr>\n",
       "      <th>894</th>\n",
       "      <td>1492441</td>\n",
       "      <td>2019-08-31</td>\n",
       "      <td>Texas</td>\n",
       "      <td>Odessa</td>\n",
       "      <td>8250 TX 191</td>\n",
       "      <td>8</td>\n",
       "      <td>23</td>\n",
       "      <td>NaN</td>\n",
       "    </tr>\n",
       "    <tr>\n",
       "      <th>1677</th>\n",
       "      <td>879953</td>\n",
       "      <td>2017-07-01</td>\n",
       "      <td>Arkansas</td>\n",
       "      <td>Little Rock</td>\n",
       "      <td>220 W 6th St</td>\n",
       "      <td>0</td>\n",
       "      <td>25</td>\n",
       "      <td>NaN</td>\n",
       "    </tr>\n",
       "    <tr>\n",
       "      <th>1581</th>\n",
       "      <td>946496</td>\n",
       "      <td>2017-10-01</td>\n",
       "      <td>Nevada</td>\n",
       "      <td>Las Vegas</td>\n",
       "      <td>3950 Las Vegas Blvd S</td>\n",
       "      <td>59</td>\n",
       "      <td>441</td>\n",
       "      <td>NaN</td>\n",
       "    </tr>\n",
       "  </tbody>\n",
       "</table>\n",
       "<p>2000 rows × 8 columns</p>\n",
       "</div>"
      ],
      "text/plain": [
       "      Incident ID Incident Date                 State City Or County  \\\n",
       "1145      1320286    2019-02-03            California   Palm Springs   \n",
       "1223      1233663    2018-10-15             Tennessee       Columbia   \n",
       "849       1521226    2019-10-07         Massachusetts       Abington   \n",
       "868       1512486    2019-09-21                  Ohio      Cleveland   \n",
       "166       1908063    2020-12-08         West Virginia   Williamsburg   \n",
       "...           ...           ...                   ...            ...   \n",
       "397       1758966    2020-08-09  District of Columbia     Washington   \n",
       "930       1466705    2019-08-03                 Texas        El Paso   \n",
       "894       1492441    2019-08-31                 Texas         Odessa   \n",
       "1677       879953    2017-07-01              Arkansas    Little Rock   \n",
       "1581       946496    2017-10-01                Nevada      Las Vegas   \n",
       "\n",
       "                                Address  # Killed  # Injured  Operations  \n",
       "1145  E Sunny Dunes Rd and El Placer Rd         4          0         NaN  \n",
       "1223            1075 Carters Creek Pike         5          0         NaN  \n",
       "849                      135 Centre Ave         5          0         NaN  \n",
       "868                  3616 East 144th St         4          0         NaN  \n",
       "166                 611 Flynns Creek Rd         6          0         NaN  \n",
       "...                                 ...       ...        ...         ...  \n",
       "397          3300 block of Dubois Pl SE         1         21         NaN  \n",
       "930                   7101 Gateway Blvd        23         23         NaN  \n",
       "894                         8250 TX 191         8         23         NaN  \n",
       "1677                       220 W 6th St         0         25         NaN  \n",
       "1581              3950 Las Vegas Blvd S        59        441         NaN  \n",
       "\n",
       "[2000 rows x 8 columns]"
      ]
     },
     "execution_count": 5,
     "metadata": {},
     "output_type": "execute_result"
    }
   ],
   "source": [
    "df_shooting1_order = df_shooting1.sort_values('# Injured')\n",
    "df_shooting1_order"
   ]
  },
  {
   "cell_type": "code",
   "execution_count": 3,
   "id": "7dbf5094",
   "metadata": {},
   "outputs": [
    {
     "name": "stderr",
     "output_type": "stream",
     "text": [
      "C:\\Users\\franf\\AppData\\Local\\Temp/ipykernel_2900/4217021868.py:3: FutureWarning: DataFrame.mean and DataFrame.median with numeric_only=None will include datetime64 and datetime64tz columns in a future version.\n",
      "  df_shooting1.mean()\n",
      "C:\\Users\\franf\\AppData\\Local\\Temp/ipykernel_2900/4217021868.py:3: FutureWarning: Dropping of nuisance columns in DataFrame reductions (with 'numeric_only=None') is deprecated; in a future version this will raise TypeError.  Select only valid columns before calling the reduction.\n",
      "  df_shooting1.mean()\n"
     ]
    },
    {
     "data": {
      "text/plain": [
       "Incident ID    1.372291e+06\n",
       "# Killed       1.051000e+00\n",
       "# Injured      4.275000e+00\n",
       "Operations              NaN\n",
       "dtype: float64"
      ]
     },
     "execution_count": 3,
     "metadata": {},
     "output_type": "execute_result"
    }
   ],
   "source": [
    "df_shooting1['Incident Date'] = pd.to_datetime(df_shooting1['Incident Date'])\n",
    "#df_shooting1.dtypes\n",
    "df_shooting1.mean()"
   ]
  },
  {
   "cell_type": "code",
   "execution_count": 6,
   "id": "275e7277",
   "metadata": {},
   "outputs": [
    {
     "data": {
      "image/png": "[encoded data removed]",
      "text/plain": [
       "<Figure size 432x288 with 1 Axes>"
      ]
     },
     "metadata": {
      "needs_background": "light"
     },
     "output_type": "display_data"
    },
    {
     "data": {
      "text/plain": [
       "<Figure size 720x720 with 0 Axes>"
      ]
     },
     "metadata": {},
     "output_type": "display_data"
    }
   ],
   "source": [
    "import matplotlib.pyplot as plt\n",
    "plt.plot(df_shooting1['Incident Date'],df_shooting1['# Killed'],label=\"muertes\")\n",
    "#plt.plot(df_shooting1['Incident Date'],df_shooting1['# Injured'],label=\"heridos\")\n",
    "\n",
    "plt.title(\"Victimas tiroteos 2016 y 2021 \",fontsize=15)\n",
    "plt.xlabel(\"Fechas\",fontsize=10)\n",
    "plt.ylabel(\"Cantidad de personas\",fontsize=10)\n",
    "plt.legend()\n",
    "plt.figure(figsize=(10,10))\n",
    "plt.show()"
   ]
  },
  {
   "cell_type": "code",
   "execution_count": 7,
   "id": "654a02f6",
   "metadata": {},
   "outputs": [
    {
     "data": {
      "image/png": "[encoded data removed]",
      "text/plain": [
       "<Figure size 432x288 with 1 Axes>"
      ]
     },
     "metadata": {
      "needs_background": "light"
     },
     "output_type": "display_data"
    },
    {
     "data": {
      "text/plain": [
       "<Figure size 720x720 with 0 Axes>"
      ]
     },
     "metadata": {},
     "output_type": "display_data"
    }
   ],
   "source": [
    "plt.plot(df_shooting1['Incident Date'],df_shooting1['# Injured'],label=\"heridos\")\n",
    "plt.title(\"Heridos tiroteos 2016 y 2021 \",fontsize=15)\n",
    "plt.xlabel(\"Fechas\",fontsize=10)\n",
    "plt.ylabel(\"Cantidad de personas\",fontsize=10)\n",
    "plt.legend()\n",
    "plt.figure(figsize=(10,10))\n",
    "plt.show()"
   ]
  },
  {
   "cell_type": "markdown",
   "id": "1a6b54c2",
   "metadata": {},
   "source": [
    "###### El tiroteo del primero de octubre 2017 se registra un tiroteo en las vegas en un concierto el cual hasta ese momento fue el segundo atentado mas grande luego del atentado de las torres gemelas."
   ]
  },
  {
   "cell_type": "code",
   "execution_count": null,
   "id": "eef93ae4",
   "metadata": {},
   "outputs": [],
   "source": []
  }
 ],
 "metadata": {
  "kernelspec": {
   "display_name": "Python 3 (ipykernel)",
   "language": "python",
   "name": "python3"
  },
  "language_info": {
   "codemirror_mode": {
    "name": "ipython",
    "version": 3
   },
   "file_extension": ".py",
   "mimetype": "text/x-python",
   "name": "python",
   "nbconvert_exporter": "python",
   "pygments_lexer": "ipython3",
   "version": "3.9.7"
  }
 },
 "nbformat": 4,
 "nbformat_minor": 5
}
